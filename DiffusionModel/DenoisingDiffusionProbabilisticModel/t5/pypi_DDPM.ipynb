{
 "cells": [
  {
   "cell_type": "markdown",
   "metadata": {
    "collapsed": true,
    "pycharm": {
     "name": "#%% md\n"
    }
   },
   "source": [
    "# [DDPMs Pytorch Implementation](https://pypi.org/project/ddpm/)\n",
    "\n",
    "Pytorch implementation of \"Improved Denoising Diffusion Probabilistic Models\", \"Denoising Diffusion Probabilistic Models\" and \"Classifier-free Diffusion Guidance\"\n",
    "\n",
    "## Install\n",
    "$ pip install ddpm\n",
    "\n",
    "## Usage\n",
    "\n",
    "### Gaussian plain DDPM"
   ]
  },
  {
   "cell_type": "code",
   "execution_count": null,
   "outputs": [],
   "source": [
    "from ddpm import GaussianDDPM, UNetTimeStep\n",
    "from ddpm.variance_scheduler import LinearScheduler\n",
    "\n",
    "T = 1_000\n",
    "width = 32\n",
    "height = 32\n",
    "channels = 3\n",
    "\n",
    "# Create a Gaussian DDPM with 1000 noise steps\n",
    "scheduler = LinearScheduler(T=T, beta_start=1e-5, beta_end=1e-2)\n",
    "denoiser = UNetTimeStep(channels=[3, 128, 256, 256, 384],\n",
    "                        kernel_sizes=[3, 3, 3, 3],\n",
    "                        strides=[1, 1, 1, 1],\n",
    "                        paddings=[1, 1, 1, 1],\n",
    "                        p_dropouts=[0.1, 0.1, 0.1, 0.1],\n",
    "                        time_embed_size=100,\n",
    "                        downsample=True)\n",
    "model = GaussianDDPM(denoiser, T, scheduler, vlb=False, lambda_variational=1.0, width=width,\n",
    "                     height=height, input_channels=channels, logging_freq=1_000)  # pytorch lightning module"
   ],
   "metadata": {
    "collapsed": false,
    "pycharm": {
     "name": "#%%\n"
    }
   }
  },
  {
   "cell_type": "markdown",
   "source": [
    "### Gaussian \"Improved\" DDPM"
   ],
   "metadata": {
    "collapsed": false,
    "pycharm": {
     "name": "#%% md\n"
    }
   }
  },
  {
   "cell_type": "code",
   "execution_count": null,
   "outputs": [],
   "source": [
    "from ddpm import GaussianDDPM, UNetTimeStep\n",
    "from ddpm.variance_scheduler import CosineScheduler\n",
    "\n",
    "T = 1_000\n",
    "width = 32\n",
    "height = 32\n",
    "channels = 3\n",
    "\n",
    "# Create a Gaussian DDPM with 1000 noise steps\n",
    "scheduler = CosineScheduler(T=T)\n",
    "denoiser = UNetTimeStep(channels=[3, 128, 256, 256, 384],\n",
    "                        kernel_sizes=[3, 3, 3, 3],\n",
    "                        strides=[1, 1, 1, 1],\n",
    "                        paddings=[1, 1, 1, 1],\n",
    "                        p_dropouts=[0.1, 0.1, 0.1, 0.1],\n",
    "                        time_embed_size=100,\n",
    "                        downsample=True)\n",
    "model = GaussianDDPM(denoiser, T, scheduler, vlb=True, lambda_variational=0.0001, width=width,\n",
    "                     height=height, input_channels=channels, logging_freq=1_000)  # pytorch lightning module"
   ],
   "metadata": {
    "collapsed": false,
    "pycharm": {
     "name": "#%%\n"
    }
   }
  },
  {
   "cell_type": "markdown",
   "source": [
    "### Classifier-free Diffusion Guidance"
   ],
   "metadata": {
    "collapsed": false,
    "pycharm": {
     "name": "#%% md\n"
    }
   }
  },
  {
   "cell_type": "code",
   "execution_count": null,
   "outputs": [],
   "source": [
    "from ddpm import GaussianDDPMClassifierFreeGuidance, UNetTimeStep\n",
    "from ddpm.variance_scheduler import CosineScheduler\n",
    "\n",
    "T = 1_000\n",
    "width = 32\n",
    "height = 32\n",
    "channels = 3\n",
    "num_classes = 10\n",
    "\n",
    "# Create a Gaussian DDPM with 1000 noise steps\n",
    "scheduler = CosineScheduler(T=T)\n",
    "denoiser = UNetTimeStep(channels=[3, 128, 256, 256, 384],\n",
    "                        kernel_sizes=[3, 3, 3, 3],\n",
    "                        strides=[1, 1, 1, 1],\n",
    "                        paddings=[1, 1, 1, 1],\n",
    "                        p_dropouts=[0.1, 0.1, 0.1, 0.1],\n",
    "                        time_embed_size=100,\n",
    "                        downsample=True)\n",
    "model = GaussianDDPMClassifierFreeGuidance(denoiser, T, w=0.3, v=0.2, variance_scheduler=scheduler, width=width,\n",
    "                                           height=height, input_channels=channels, logging_freq=1_000, p_uncond=0.2,\n",
    "                                           num_classes=num_classes)  # pytorch lightning module"
   ],
   "metadata": {
    "collapsed": false,
    "pycharm": {
     "name": "#%%\n"
    }
   }
  },
  {
   "cell_type": "code",
   "execution_count": null,
   "outputs": [],
   "source": [],
   "metadata": {
    "collapsed": false,
    "pycharm": {
     "name": "#%%\n"
    }
   }
  }
 ],
 "metadata": {
  "kernelspec": {
   "display_name": "Python 3",
   "language": "python",
   "name": "python3"
  },
  "language_info": {
   "codemirror_mode": {
    "name": "ipython",
    "version": 2
   },
   "file_extension": ".py",
   "mimetype": "text/x-python",
   "name": "python",
   "nbconvert_exporter": "python",
   "pygments_lexer": "ipython2",
   "version": "2.7.6"
  }
 },
 "nbformat": 4,
 "nbformat_minor": 0
}
